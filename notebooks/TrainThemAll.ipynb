{
  "nbformat": 4,
  "nbformat_minor": 0,
  "metadata": {
    "colab": {
      "name": "TrainThemAll.ipynb",
      "provenance": []
    },
    "kernelspec": {
      "name": "python3",
      "display_name": "Python 3"
    },
    "language_info": {
      "name": "python"
    },
    "accelerator": "GPU"
  },
  "cells": [
    {
      "cell_type": "code",
      "metadata": {
        "id": "5FisbLdF2KsO"
      },
      "source": [
        "!pip install fire \n",
        "!pip install -U dm-haiku\n",
        "!pip install wandb\n",
        "!pip install optax"
      ],
      "execution_count": null,
      "outputs": []
    },
    {
      "cell_type": "code",
      "metadata": {
        "id": "0prhUZHYe5I_"
      },
      "source": [
        "!git clone https://github.com/icmc-data/BadGlobalMinima.git"
      ],
      "execution_count": null,
      "outputs": []
    },
    {
      "cell_type": "code",
      "metadata": {
        "id": "sDT1Ho-0Mmlg"
      },
      "source": [
        "%cd BadGlobalMinima/src/"
      ],
      "execution_count": null,
      "outputs": []
    },
    {
      "cell_type": "code",
      "metadata": {
        "id": "dyivj_4hfZSG"
      },
      "source": [
        "# Train adversarial init\n",
        "!python run_train.py --seed 23 --epochs 350 --l2 False --momentum False  --augmentation False --adversarial_dataset True"
      ],
      "execution_count": null,
      "outputs": []
    },
    {
      "cell_type": "code",
      "metadata": {
        "id": "IByVCWA6QjhN"
      },
      "source": [
        "# Vanilla SGD from adversarial init (--run-weights-name is the run path of the adversarial pre-training experiment)\n",
        "!python run_train.py --seed 23 --epochs 350 --l2 False --momentum False  --augmentation False --run-weights-name=\"283nf9tf\""
      ],
      "execution_count": null,
      "outputs": []
    },
    {
      "cell_type": "code",
      "metadata": {
        "id": "ramoF8tsgocC"
      },
      "source": [
        "# Vanilla SGD from random init\n",
        "!python run_train.py --seed 23 --epochs 350 --l2 False --momentum False  --augmentation False "
      ],
      "execution_count": null,
      "outputs": []
    },
    {
      "cell_type": "code",
      "metadata": {
        "id": "wx9qj3zLhb6I"
      },
      "source": [
        "# SOTA SGD from adversarial init\n",
        "!python run_train.py --seed 23 --epochs 350 --l2 True --momentum True  --augmentation True --run-weights-name=\"283nf9tf\""
      ],
      "execution_count": null,
      "outputs": []
    },
    {
      "cell_type": "code",
      "metadata": {
        "id": "T-Af5hT6hdSK"
      },
      "source": [
        "# SOTA SGD from random init\n",
        "!python run_train.py --seed 23 --epochs 350 --l2 True --momentum True  --augmentation True"
      ],
      "execution_count": null,
      "outputs": []
    }
  ]
}