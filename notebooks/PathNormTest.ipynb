{
  "nbformat": 4,
  "nbformat_minor": 0,
  "metadata": {
    "colab": {
      "name": "TestePathNorm.ipynb",
      "provenance": []
    },
    "kernelspec": {
      "name": "python3",
      "display_name": "Python 3"
    },
    "language_info": {
      "name": "python"
    }
  },
  "cells": [
    {
      "cell_type": "code",
      "metadata": {
        "colab": {
          "base_uri": "https://localhost:8080/"
        },
        "id": "CBMZbgSE-un3",
        "outputId": "97fb24b9-3530-459c-d821-06878e264e21"
      },
      "source": [
        "!git clone https://github.com/icmc-data/BadGlobalMinima.git"
      ],
      "execution_count": null,
      "outputs": [
        {
          "output_type": "stream",
          "text": [
            "fatal: destination path 'BadGlobalMinima' already exists and is not an empty directory.\n"
          ],
          "name": "stdout"
        }
      ]
    },
    {
      "cell_type": "code",
      "metadata": {
        "colab": {
          "base_uri": "https://localhost:8080/",
          "height": 480
        },
        "id": "pRaBoidZBQRs",
        "outputId": "d19268b1-c5e5-4425-bf95-c621af0ebc67"
      },
      "source": [
        "!pip install git+https://github.com/deepmind/dm-haiku\n"
      ],
      "execution_count": null,
      "outputs": [
        {
          "output_type": "stream",
          "text": [
            "Collecting git+https://github.com/deepmind/dm-haiku\n",
            "  Cloning https://github.com/deepmind/dm-haiku to /tmp/pip-req-build-e88v7bnc\n",
            "  Running command git clone -q https://github.com/deepmind/dm-haiku /tmp/pip-req-build-e88v7bnc\n",
            "Requirement already satisfied: absl-py>=0.7.1 in /usr/local/lib/python3.7/dist-packages (from dm-haiku==0.0.5.dev0) (0.12.0)\n",
            "Collecting jmp>=0.0.2\n",
            "  Downloading https://files.pythonhosted.org/packages/ff/5c/1482f4a4a502e080af2ca54d7f80a60b5d4735f464c151666d583b78c226/jmp-0.0.2-py3-none-any.whl\n",
            "Requirement already satisfied: numpy>=1.18.0 in /usr/local/lib/python3.7/dist-packages (from dm-haiku==0.0.5.dev0) (1.19.5)\n",
            "Requirement already satisfied: tabulate>=0.8.9 in /usr/local/lib/python3.7/dist-packages (from dm-haiku==0.0.5.dev0) (0.8.9)\n",
            "Requirement already satisfied: typing_extensions in /usr/local/lib/python3.7/dist-packages (from dm-haiku==0.0.5.dev0) (3.7.4.3)\n",
            "Requirement already satisfied: six in /usr/local/lib/python3.7/dist-packages (from absl-py>=0.7.1->dm-haiku==0.0.5.dev0) (1.15.0)\n",
            "Building wheels for collected packages: dm-haiku\n",
            "  Building wheel for dm-haiku (setup.py) ... \u001b[?25l\u001b[?25hdone\n",
            "  Created wheel for dm-haiku: filename=dm_haiku-0.0.5.dev0-cp37-none-any.whl size=530361 sha256=b817860f712a97607ae44c3ee85d095125ea5ade447ceb2a8a79147cb98078c2\n",
            "  Stored in directory: /tmp/pip-ephem-wheel-cache-dto5n17h/wheels/97/0f/e9/17f34e377f8d4060fa88a7e82bee5d8afbf7972384768a5499\n",
            "Successfully built dm-haiku\n",
            "Installing collected packages: jmp, dm-haiku\n",
            "  Found existing installation: dm-haiku 0.0.4\n",
            "    Uninstalling dm-haiku-0.0.4:\n",
            "      Successfully uninstalled dm-haiku-0.0.4\n",
            "Successfully installed dm-haiku-0.0.5.dev0 jmp-0.0.2\n"
          ],
          "name": "stdout"
        },
        {
          "output_type": "display_data",
          "data": {
            "application/vnd.colab-display-data+json": {
              "pip_warning": {
                "packages": [
                  "haiku"
                ]
              }
            }
          },
          "metadata": {
            "tags": []
          }
        }
      ]
    },
    {
      "cell_type": "code",
      "metadata": {
        "id": "0IX1LQVb_2hO"
      },
      "source": [
        "import torch\n",
        "import numpy as np\n",
        "import jax.numpy as jnp\n",
        "import jax\n",
        "import haiku as hk\n",
        "import copy"
      ],
      "execution_count": null,
      "outputs": []
    },
    {
      "cell_type": "code",
      "metadata": {
        "id": "eBeeJuVo_Cwe"
      },
      "source": [
        "def lp_path_norm_pt(model, device, p=2, input_size=[3, 32, 32]):\n",
        "    tmp_model = copy.deepcopy(model)\n",
        "    tmp_model.eval()\n",
        "\n",
        "    with torch.no_grad():\n",
        "\n",
        "        for param in tmp_model.parameters():\n",
        "            if param.requires_grad:\n",
        "                param.abs_().pow_(p)\n",
        "        data_ones = torch.ones(input_size).to(device)\n",
        "        # print(tmp_model.parameters)\n",
        "    return (tmp_model(data_ones).sum() ** (1 / p )).item()"
      ],
      "execution_count": null,
      "outputs": []
    },
    {
      "cell_type": "code",
      "metadata": {
        "id": "w722pHP3_3kA"
      },
      "source": [
        " def lp_path_norm_jax(forward, weights, p=2, input_size=[3, 32, 32]):\n",
        "    pw_model = jax.tree_map(lambda w: jnp.power(jnp.abs(w), p), weights)\n",
        "    data_ones = jnp.ones(input_size)\n",
        "    return (forward.apply(pw_model, state, data_ones).sum() ** (1 / p ))"
      ],
      "execution_count": null,
      "outputs": []
    },
    {
      "cell_type": "code",
      "metadata": {
        "id": "WcppoWyeA2VU"
      },
      "source": [
        "X = np.random.rand(10)"
      ],
      "execution_count": null,
      "outputs": []
    },
    {
      "cell_type": "code",
      "metadata": {
        "id": "aqi9Tbai_7a-"
      },
      "source": [
        "class Model(torch.nn.Module):\n",
        "    def __init__(self):\n",
        "        super(Model, self).__init__()\n",
        "        self.l1 = torch.nn.Linear(10, 10)\n",
        "        self.relu = torch.nn.ReLU()\n",
        "        self.l2 = torch.nn.Linear(10, 1)\n",
        "        \n",
        "    def forward(self, X):\n",
        "        return self.l2(self.relu(self.l1(X)))"
      ],
      "execution_count": null,
      "outputs": []
    },
    {
      "cell_type": "code",
      "metadata": {
        "colab": {
          "base_uri": "https://localhost:8080/"
        },
        "id": "dUFzU6JEA_b2",
        "outputId": "4790b9be-dfdd-4721-e99a-ecb3b3480114"
      },
      "source": [
        "model = Model()\n",
        "model.forward(torch.Tensor(X))"
      ],
      "execution_count": null,
      "outputs": [
        {
          "output_type": "execute_result",
          "data": {
            "text/plain": [
              "tensor([-0.4074], grad_fn=<AddBackward0>)"
            ]
          },
          "metadata": {
            "tags": []
          },
          "execution_count": 122
        }
      ]
    },
    {
      "cell_type": "code",
      "metadata": {
        "id": "8fiGn5kgBDHP"
      },
      "source": [
        "def forward(X):\n",
        "    mlp = hk.Sequential([hk.Linear(10),  jax.nn.relu, hk.Linear(1)])\n",
        "    return mlp(X)"
      ],
      "execution_count": null,
      "outputs": []
    },
    {
      "cell_type": "code",
      "metadata": {
        "id": "W2-4YXigBt4_"
      },
      "source": [
        "net = hk.without_apply_rng(hk.transform(forward))"
      ],
      "execution_count": null,
      "outputs": []
    },
    {
      "cell_type": "code",
      "metadata": {
        "colab": {
          "base_uri": "https://localhost:8080/"
        },
        "id": "8ltLjxuOB8zm",
        "outputId": "314715d2-2516-4fbf-e3ea-e302c7e82774"
      },
      "source": [
        "rng = jax.random.PRNGKey(42)\n",
        "\n",
        "params = net.init(rng, X)"
      ],
      "execution_count": null,
      "outputs": [
        {
          "output_type": "stream",
          "text": [
            "/usr/local/lib/python3.7/dist-packages/jax/_src/numpy/lax_numpy.py:3035: UserWarning: Explicitly requested dtype float64 requested in zeros is not available, and will be truncated to dtype float32. To enable more dtypes, set the jax_enable_x64 configuration option or the JAX_ENABLE_X64 shell environment variable. See https://github.com/google/jax#current-gotchas for more.\n",
            "  lax._check_user_dtype_supported(dtype, \"zeros\")\n"
          ],
          "name": "stderr"
        }
      ]
    },
    {
      "cell_type": "code",
      "metadata": {
        "id": "I-FIFwqXDsES"
      },
      "source": [
        "params_dict['linear']['w'] = jnp.array(model.l1.weight.detach().numpy()).T\n",
        "\n",
        "params_dict['linear']['b'] = jnp.array(model.l1.bias.detach().numpy()).T\n",
        "\n",
        "params_dict['linear_1']['w'] = jnp.array(model.l2.weight.detach().numpy()).T\n",
        "\n",
        "params_dict['linear_1']['b'] = jnp.array(model.l2.bias.detach().numpy()).T"
      ],
      "execution_count": null,
      "outputs": []
    },
    {
      "cell_type": "code",
      "metadata": {
        "id": "3mIrLZqtF03_"
      },
      "source": [
        "hk_pytorch_params = hk.data_structures.to_haiku_dict(params_dict)"
      ],
      "execution_count": null,
      "outputs": []
    },
    {
      "cell_type": "code",
      "metadata": {
        "colab": {
          "base_uri": "https://localhost:8080/"
        },
        "id": "MJXzPmPFFdo8",
        "outputId": "cde7040f-120e-4adf-e941-4cdf80e27e02"
      },
      "source": [
        "net.apply(hk_pytorch_params, jnp.array(X))"
      ],
      "execution_count": null,
      "outputs": [
        {
          "output_type": "execute_result",
          "data": {
            "text/plain": [
              "DeviceArray([-0.40736407], dtype=float32)"
            ]
          },
          "metadata": {
            "tags": []
          },
          "execution_count": 127
        }
      ]
    },
    {
      "cell_type": "code",
      "metadata": {
        "colab": {
          "base_uri": "https://localhost:8080/"
        },
        "id": "2nlD6uy7JAj7",
        "outputId": "60f995df-4a41-45ad-e6bc-fb4231ac18ab"
      },
      "source": [
        "lp_path_norm_pt(model, 'cpu', input_size=[10])"
      ],
      "execution_count": null,
      "outputs": [
        {
          "output_type": "execute_result",
          "data": {
            "text/plain": [
              "0.4097086191177368"
            ]
          },
          "metadata": {
            "tags": []
          },
          "execution_count": 128
        }
      ]
    },
    {
      "cell_type": "code",
      "metadata": {
        "colab": {
          "base_uri": "https://localhost:8080/"
        },
        "id": "HNhN_XsaKK09",
        "outputId": "b5e9cde6-6cc4-4a51-bb0b-0e3f16beffe3"
      },
      "source": [
        "lp_path_norm_jax(net, hk_pytorch_params, input_size=[10])"
      ],
      "execution_count": null,
      "outputs": [
        {
          "output_type": "execute_result",
          "data": {
            "text/plain": [
              "DeviceArray(0.40970862, dtype=float32)"
            ]
          },
          "metadata": {
            "tags": []
          },
          "execution_count": 129
        }
      ]
    },
    {
      "cell_type": "code",
      "metadata": {
        "id": "lmfOtjN8LNS_"
      },
      "source": [
        ""
      ],
      "execution_count": null,
      "outputs": []
    }
  ]
}